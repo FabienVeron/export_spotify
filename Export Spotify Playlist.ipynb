{
 "cells": [
  {
   "cell_type": "markdown",
   "metadata": {},
   "source": [
    "### Export spotify playlist song artist and title\n",
    "\n",
    "Quick notebook to display a list of song artist and title from a copy paste done from a Spotify playlist\n",
    "The csv file containing the spotify playlist should look like this\n",
    "```\n",
    "https://open.spotify.com/track/5uzNa0SBGOe5pPnstWHMCt\n",
    "https://open.spotify.com/track/7r5bS08R8d0jZuDZutVeHQ\n",
    "https://open.spotify.com/track/3OeUlriM0EZHdWleJtjoVr\n",
    "```\n",
    "\n",
    "Name it whatever you want, change the variable ```file_name``` and you are good to go !"
   ]
  },
  {
   "cell_type": "code",
   "execution_count": 1,
   "metadata": {
    "collapsed": true
   },
   "outputs": [],
   "source": [
    "file_name = 'wedding_list.csv'"
   ]
  },
  {
   "cell_type": "code",
   "execution_count": 5,
   "metadata": {
    "collapsed": true
   },
   "outputs": [],
   "source": [
    "#Bunch of quite useful imports\n",
    "import urllib\n",
    "import csv\n",
    "from bs4 import BeautifulSoup"
   ]
  },
  {
   "cell_type": "code",
   "execution_count": 6,
   "metadata": {
    "collapsed": false
   },
   "outputs": [],
   "source": [
    "def get_song_details(url):\n",
    "    \"\"\"\n",
    "    Open the url, reads 2 metas which contains the song artist and title\n",
    "    Returns a tuple of those\n",
    "    \"\"\"\n",
    "    response = urllib.request.urlopen(url)\n",
    "    html = response.read()\n",
    "    soup = BeautifulSoup(html,'html.parser')\n",
    "    artist = soup.find(\"meta\",property = \"twitter:audio:artist_name\").get(\"content\")\n",
    "    title = soup.find(\"meta\",property=\"og:title\").get(\"content\")\n",
    "    return (artist,title)"
   ]
  },
  {
   "cell_type": "code",
   "execution_count": null,
   "metadata": {
    "collapsed": false
   },
   "outputs": [
    {
     "name": "stdout",
     "output_type": "stream",
     "text": [
      "1 : The Wiseguys - Ooh La La\n",
      "2 : Fatboy Slim - Praise You - Radio Edit\n",
      "3 : Fatboy Slim - Right Here, Right Now\n",
      "4 : Deee-Lite - Groove Is In The Heart\n",
      "5 : Armand Van Helden - My My My - Funktuary Radio Mix\n",
      "6 : Armand Van Helden - The Funk Phenomena\n",
      "7 : Michael Jackson - Billie Jean\n",
      "8 : Jimmy Cliff - Reggae Night\n",
      "9 : Inner Circle - Sweat (A La La La La Long)\n",
      "10 : Midnight Oil - Beds Are Burning\n",
      "11 : The B-52's - Love Shack\n",
      "12 : Eurythmics - Sweet Dreams (Are Made of This) - Remastered\n",
      "13 : The Black Jets - I Love Rock 'n' Roll\n",
      "14 : Phil Collins - You Can't Hurry Love - 2016 Remastered\n",
      "15 : Blondie - Call Me\n",
      "16 : Blondie - One Way Or Another - 2001 - Remaster\n",
      "17 : INXS - Need You Tonight\n",
      "18 : Bon Jovi - Livin' On A Prayer\n",
      "19 : Dexys Midnight Runners - Come On Eileen\n",
      "20 : ABBA - Gimme! Gimme! Gimme! (A Man After Midnight)\n",
      "21 : George Harrison - Got My Mind Set On You - 2004 Digital Remaster\n",
      "22 : The Rolling Stones - (I Can't Get No) Satisfaction - Mono Version / Remastered 2002\n",
      "23 : The Rolling Stones - Start Me Up - 2009 Re-Mastered Digital Version\n",
      "24 : Soft Cell - Tainted Love\n",
      "25 : Mylo - Doctor Pressure\n",
      "26 : The Buggles - Video Killed The Radio Star - Single Version\n",
      "27 : Madness - Our House\n",
      "28 : Edward Sharpe & The Magnetic Zeros - Home\n",
      "29 : Beyoncé - Crazy In Love\n",
      "30 : Pitbull - Time of Our Lives\n",
      "31 : Pharrell Williams - Happy - From \"Despicable Me 2\"\n",
      "32 : Daft Punk - Get Lucky - Radio Edit\n",
      "33 : Justin Timberlake - SexyBack\n",
      "34 : Partenaire Particulier - Partenaire Particulier\n",
      "35 : Meghan Trainor - All About That Bass\n",
      "36 : Calvin Harris - Feel So Close - Radio Edit\n",
      "37 : Bill Withers - Lovely Day\n",
      "38 : Elvis Presley - A Little Less Conversation - JXL Radio Edit Remix\n",
      "39 : MAGIC! - Rude\n",
      "40 : Mark Ronson - Uptown Funk\n",
      "41 : OutKast - Hey Ya! - Radio Mix / Club Mix\n",
      "42 : Mark Ronson - Valerie - Version Revisited\n",
      "43 : P!nk - Get the Party Started\n",
      "44 : Michael Jackson - Beat It\n",
      "45 : Alicia Keys - No One\n",
      "46 : Prince - Kiss\n",
      "47 : Bruno Mars - Locked Out Of Heaven\n",
      "48 : Robin Thicke - Blurred Lines\n",
      "49 : Michael Jackson - Don't Stop 'Til You Get Enough - 2003 Edit\n",
      "50 : Macklemore & Ryan Lewis - Can't Hold Us - feat. Ray Dalton\n",
      "51 : Kesha - TiK ToK\n",
      "52 : Snoop Dogg - Drop It Like It's Hot\n",
      "53 : Alliance Ethnik - Respect (feat. Vinia Mojica)\n",
      "54 : Calvin Harris - Feel So Close - Radio Edit\n",
      "55 : Junior Senior - Move Your Feet\n",
      "56 : Kanye West - Gold Digger\n",
      "57 : Flo Rida - Whistle\n",
      "58 : Icona Pop - I Love It (feat. Charli XCX) - Original Version\n",
      "59 : Will Smith - Gettin' Jiggy Wit It\n",
      "60 : Peter Andre - Mysterious Girl - Radio Edit\n",
      "61 : Van Morrison - Brown Eyed Girl\n",
      "62 : Beyoncé - Single Ladies (Put a Ring on It)\n",
      "63 : Flo Rida - Low (feat T-Pain)\n",
      "64 : The Foundations - Build Me up Buttercup (Re-Recorded)\n",
      "65 : Kenny Loggins - Footloose\n",
      "66 : Rihanna - Don't Stop The Music\n",
      "67 : Kool & The Gang - Celebration - Single Version\n",
      "68 : Earth, Wind & Fire - September\n"
     ]
    }
   ],
   "source": [
    "with open(file_name, newline='') as csvfile:\n",
    "    reader = csv.reader(csvfile)\n",
    "    for i,row in enumerate(reader):\n",
    "        (artist,title) = get_song_details(row[0])\n",
    "        print(str(i+1) + \" : \" + artist + \" - \" + title)"
   ]
  },
  {
   "cell_type": "code",
   "execution_count": null,
   "metadata": {
    "collapsed": true
   },
   "outputs": [],
   "source": []
  }
 ],
 "metadata": {
  "kernelspec": {
   "display_name": "Python 3",
   "language": "python",
   "name": "python3"
  },
  "language_info": {
   "codemirror_mode": {
    "name": "ipython",
    "version": 3
   },
   "file_extension": ".py",
   "mimetype": "text/x-python",
   "name": "python",
   "nbconvert_exporter": "python",
   "pygments_lexer": "ipython3",
   "version": "3.6.1"
  }
 },
 "nbformat": 4,
 "nbformat_minor": 2
}
